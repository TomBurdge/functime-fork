{
 "cells": [
  {
   "cell_type": "markdown",
   "id": "4fa2ea52-993f-46d3-be32-c9d8ef9d7cca",
   "metadata": {},
   "source": [
    "# LLM Interoperability\n",
    "This walkthrough covers the `functime.llm` module, which contains namespaced polars dataframe methods to interoperate Large Language Models (LLMs) with functime."
   ]
  },
  {
   "cell_type": "markdown",
   "id": "fb303fcc-f1b1-483f-9d75-d8f56e7ad34c",
   "metadata": {},
   "source": [
    "Let's use OpenAI's GPT models to analyze commodity price forecasts created by a functime forecaster. By default we use `gpt-3.5-turbo`."
   ]
  },
  {
   "cell_type": "markdown",
   "id": "592db0ea-1363-4696-94c1-25a5893db5a9",
   "metadata": {},
   "source": [
    "### Load data"
   ]
  },
  {
   "cell_type": "code",
   "execution_count": 9,
   "id": "0ebd0dbb-d9b5-4f26-8c65-fa79c1372694",
   "metadata": {},
   "outputs": [],
   "source": [
    "%%capture\n",
    "import os\n",
    "import polars as pl\n",
    "\n",
    "from functime.cross_validation import train_test_split\n",
    "from functime.forecasting import knn\n",
    "\n",
    "import functime.llm     # We must import this to override the `llm` namespace for pl.DataFrame\n",
    "from functime.llm.formatting import univariate_panel_to_wide\n"
   ]
  },
  {
   "cell_type": "code",
   "execution_count": 11,
   "id": "642d7472",
   "metadata": {},
   "outputs": [],
   "source": [
    "os.environ[\"OPENAI_API_KEY\"] = ...  # Your API key here"
   ]
  },
  {
   "cell_type": "code",
   "execution_count": 12,
   "id": "cfa368dd-cc6b-4596-ab2a-5643b925a685",
   "metadata": {},
   "outputs": [
    {
     "name": "stdout",
     "output_type": "stream",
     "text": [
      "🎯 Target variable (y) -- train set:\n",
      " shape: (45_453, 3)\n",
      "┌───────────────────┬─────────────────────┬───────┐\n",
      "│ commodity_type    ┆ time                ┆ price │\n",
      "│ ---               ┆ ---                 ┆ ---   │\n",
      "│ str               ┆ datetime[ns]        ┆ f64   │\n",
      "╞═══════════════════╪═════════════════════╪═══════╡\n",
      "│ Coal, Australian  ┆ 1970-01-01 00:00:00 ┆ 7.8   │\n",
      "│ Coal, Australian  ┆ 1970-02-01 00:00:00 ┆ 7.8   │\n",
      "│ Coal, Australian  ┆ 1970-03-01 00:00:00 ┆ 7.8   │\n",
      "│ Coal, Australian  ┆ 1970-04-01 00:00:00 ┆ 7.8   │\n",
      "│ …                 ┆ …                   ┆ …     │\n",
      "│ Natural gas index ┆ 2020-06-01 00:00:00 ┆ 33.99 │\n",
      "│ Natural gas index ┆ 2020-07-01 00:00:00 ┆ 34.91 │\n",
      "│ Natural gas index ┆ 2020-08-01 00:00:00 ┆ 45.85 │\n",
      "│ Natural gas index ┆ 2020-09-01 00:00:00 ┆ 46.07 │\n",
      "└───────────────────┴─────────────────────┴───────┘\n"
     ]
    }
   ],
   "source": [
    "y = pl.read_parquet(\"../../data/commodities.parquet\")\n",
    "entity_col, time_col, target_col = y.columns\n",
    "test_size = 30\n",
    "freq = \"1mo\"\n",
    "y_train, y_test = train_test_split(test_size)(y)\n",
    "print(\"🎯 Target variable (y) -- train set:\\n\", y_train.collect())"
   ]
  },
  {
   "cell_type": "markdown",
   "id": "0be0ed42-0637-4535-9e22-ac37e33a2ac1",
   "metadata": {},
   "source": [
    "We'll make a prediction using a knn forecaster."
   ]
  },
  {
   "cell_type": "code",
   "execution_count": 13,
   "id": "bb31fb8f-03d5-4cce-a8e9-01ac2f4eabab",
   "metadata": {},
   "outputs": [
    {
     "name": "stdout",
     "output_type": "stream",
     "text": [
      "📊 Preds:\n",
      " shape: (2_130, 3)\n",
      "┌─────────────────────────┬─────────────────────┬─────────────┐\n",
      "│ commodity_type          ┆ time                ┆ price       │\n",
      "│ ---                     ┆ ---                 ┆ ---         │\n",
      "│ str                     ┆ datetime[μs]        ┆ f64         │\n",
      "╞═════════════════════════╪═════════════════════╪═════════════╡\n",
      "│ Tobacco, US import u.v. ┆ 2020-10-01 00:00:00 ┆ 4350.390137 │\n",
      "│ Tobacco, US import u.v. ┆ 2020-11-01 00:00:00 ┆ 4350.390137 │\n",
      "│ Tobacco, US import u.v. ┆ 2020-12-01 00:00:00 ┆ 4350.390137 │\n",
      "│ Tobacco, US import u.v. ┆ 2021-01-01 00:00:00 ┆ 4340.333984 │\n",
      "│ …                       ┆ …                   ┆ …           │\n",
      "│ Sawnwood, Cameroon      ┆ 2022-12-01 00:00:00 ┆ 534.277954  │\n",
      "│ Sawnwood, Cameroon      ┆ 2023-01-01 00:00:00 ┆ 529.589966  │\n",
      "│ Sawnwood, Cameroon      ┆ 2023-02-01 00:00:00 ┆ 523.410034  │\n",
      "│ Sawnwood, Cameroon      ┆ 2023-03-01 00:00:00 ┆ 510.354004  │\n",
      "└─────────────────────────┴─────────────────────┴─────────────┘\n"
     ]
    }
   ],
   "source": [
    "# Univariate time-series fit with automated lags\n",
    "forecaster = knn(\n",
    "    freq=\"1mo\",\n",
    "    lags=24\n",
    ")\n",
    "forecaster.fit(y=y_train)\n",
    "y_pred = forecaster.predict(fh=test_size)\n",
    "print(\"📊 Preds:\\n\", y_pred)"
   ]
  },
  {
   "cell_type": "markdown",
   "id": "9eda8e8f",
   "metadata": {},
   "source": [
    "We'll also provide a short description of the dataset to aid the LLM in its analysis."
   ]
  },
  {
   "cell_type": "code",
   "execution_count": 14,
   "id": "65beed75",
   "metadata": {},
   "outputs": [],
   "source": [
    "dataset_context = \"This dataset comprises of forecasted commodity prices between 2020 to 2023.\""
   ]
  },
  {
   "cell_type": "markdown",
   "id": "a2d50852-aaa5-40e6-8edc-3088131c8aff",
   "metadata": {},
   "source": [
    "### Analyze Forecasts"
   ]
  },
  {
   "cell_type": "markdown",
   "id": "72489485",
   "metadata": {},
   "source": [
    "Let's take a look at aluminum and European banana prices. We'll first transform the panel dataframe into a wide format to reduce redundant information (e.g. repeated time/entity values) sent to the LLM."
   ]
  },
  {
   "cell_type": "code",
   "execution_count": 15,
   "id": "a9e45d4b-eb85-4604-9145-d15fd04d0413",
   "metadata": {},
   "outputs": [
    {
     "name": "stdout",
     "output_type": "stream",
     "text": [
      "📊 'Aluminum' and 'Banana, Europe' prices (wide):\n",
      " shape: (30, 3)\n",
      "┌─────────────────────┬─────────────┬────────────────┐\n",
      "│ time                ┆ Aluminum    ┆ Banana, Europe │\n",
      "│ ---                 ┆ ---         ┆ ---            │\n",
      "│ datetime[μs]        ┆ f32         ┆ f32            │\n",
      "╞═════════════════════╪═════════════╪════════════════╡\n",
      "│ 2020-10-01 00:00:00 ┆ 1575.267944 ┆ 0.868          │\n",
      "│ 2020-11-01 00:00:00 ┆ 1588.387939 ┆ 0.846          │\n",
      "│ 2020-12-01 00:00:00 ┆ 1602.702026 ┆ 0.824          │\n",
      "│ 2021-01-01 00:00:00 ┆ 1583.288086 ┆ 0.824          │\n",
      "│ …                   ┆ …           ┆ …              │\n",
      "│ 2022-12-01 00:00:00 ┆ 1343.609985 ┆ 1.186          │\n",
      "│ 2023-01-01 00:00:00 ┆ 1343.609985 ┆ 1.144          │\n",
      "│ 2023-02-01 00:00:00 ┆ 1396.969971 ┆ 1.126          │\n",
      "│ 2023-03-01 00:00:00 ┆ 1400.67395  ┆ 1.08           │\n",
      "└─────────────────────┴─────────────┴────────────────┘\n"
     ]
    }
   ],
   "source": [
    "selection = [\"Aluminum\", \"Banana, Europe\"]\n",
    "prices = y_pred.filter(pl.col(entity_col).is_in(selection)).pipe(\n",
    "    univariate_panel_to_wide, shrink_dtype=True\n",
    ")\n",
    "\n",
    "print(\"📊 'Aluminum' and 'Banana, Europe' prices (wide):\\n\", prices)"
   ]
  },
  {
   "cell_type": "code",
   "execution_count": 16,
   "id": "d643ede9",
   "metadata": {},
   "outputs": [
    {
     "name": "stdout",
     "output_type": "stream",
     "text": [
      "📊 Analysis:\n",
      " - The Aluminum price shows a decreasing trend from October 2020 (1575.27 USD) to March 2021 (1385.47 USD), followed by a slight increase until March 2023 (1400.67 USD).\n",
      "- Banana prices in Europe exhibit a fluctuating trend with no clear direction. There is no significant change in prices between October 2020 (0.868 USD) and October 2021 (0.86 USD). However, from October 2021 to March 2023, there is a gradual decline in prices, reaching 1.08 USD.\n",
      "- The Aluminum price experienced a significant drop in February 2021, with a decrease of 6.88% compared to the previous month.\n",
      "- In contrast, Banana prices in Europe had a small drop in February 2021, with a decrease of 2.36% compared to the previous month.\n",
      "- Anomalies in the Aluminum price are observed in February 2021 and May 2021, with decreases of 6.88% and 3.08% respectively, compared to the previous month.\n",
      "- Banana prices in Europe show an anomaly in October 2021, with an increase of 5.58% compared to the previous month.\n",
      "- Seasonality is not evident in the Aluminum price as the fluctuations do not follow a regular pattern over the months.\n",
      "- Banana prices in Europe do not exhibit clear seasonality either, with irregular fluctuations throughout the dataset.\n",
      "- The highest Aluminum price is recorded in February 2022 (1401.99 USD), while the lowest is observed in March 2022 (1385.47 USD).\n",
      "- The highest Banana price in Europe is recorded in June 2022 (1.188 USD), while the lowest is observed in May 2021 (0.806 USD).\n"
     ]
    }
   ],
   "source": [
    "analysis = prices.llm.analyze(context=dataset_context)  # This may take a few seconds\n",
    "print(\"📊 Analysis:\\n\", analysis)"
   ]
  },
  {
   "cell_type": "markdown",
   "id": "615c857b-f8e8-4fea-9175-568076821a90",
   "metadata": {},
   "source": [
    "### Compare Forecasts"
   ]
  },
  {
   "cell_type": "markdown",
   "id": "404c44fc",
   "metadata": {},
   "source": [
    "Let's now compare the previous selection with a new one. We'll refer to these as baskets A and B."
   ]
  },
  {
   "cell_type": "code",
   "execution_count": 17,
   "id": "acbb24b9-57cb-47f7-aa19-b58e49f32419",
   "metadata": {},
   "outputs": [
    {
     "name": "stdout",
     "output_type": "stream",
     "text": [
      "📊 Basket A -- 'Aluminum' and 'Banana, Europe' (wide):\n",
      " shape: (30, 3)\n",
      "┌─────────────────────┬─────────────┬────────────────┐\n",
      "│ time                ┆ Aluminum    ┆ Banana, Europe │\n",
      "│ ---                 ┆ ---         ┆ ---            │\n",
      "│ datetime[μs]        ┆ f32         ┆ f32            │\n",
      "╞═════════════════════╪═════════════╪════════════════╡\n",
      "│ 2020-10-01 00:00:00 ┆ 1575.267944 ┆ 0.868          │\n",
      "│ 2020-11-01 00:00:00 ┆ 1588.387939 ┆ 0.846          │\n",
      "│ 2020-12-01 00:00:00 ┆ 1602.702026 ┆ 0.824          │\n",
      "│ 2021-01-01 00:00:00 ┆ 1583.288086 ┆ 0.824          │\n",
      "│ …                   ┆ …           ┆ …              │\n",
      "│ 2022-12-01 00:00:00 ┆ 1343.609985 ┆ 1.186          │\n",
      "│ 2023-01-01 00:00:00 ┆ 1343.609985 ┆ 1.144          │\n",
      "│ 2023-02-01 00:00:00 ┆ 1396.969971 ┆ 1.126          │\n",
      "│ 2023-03-01 00:00:00 ┆ 1400.67395  ┆ 1.08           │\n",
      "└─────────────────────┴─────────────┴────────────────┘\n",
      "📊 Basket B -- 'Chicken' and 'Cocoa' (wide):\n",
      " shape: (30, 3)\n",
      "┌─────────────────────┬─────────┬───────┐\n",
      "│ time                ┆ Chicken ┆ Cocoa │\n",
      "│ ---                 ┆ ---     ┆ ---   │\n",
      "│ datetime[μs]        ┆ f32     ┆ f32   │\n",
      "╞═════════════════════╪═════════╪═══════╡\n",
      "│ 2020-10-01 00:00:00 ┆ 1.492   ┆ 2.41  │\n",
      "│ 2020-11-01 00:00:00 ┆ 1.588   ┆ 2.42  │\n",
      "│ 2020-12-01 00:00:00 ┆ 1.606   ┆ 2.408 │\n",
      "│ 2021-01-01 00:00:00 ┆ 1.536   ┆ 2.372 │\n",
      "│ …                   ┆ …       ┆ …     │\n",
      "│ 2022-12-01 00:00:00 ┆ 1.428   ┆ 2.664 │\n",
      "│ 2023-01-01 00:00:00 ┆ 1.42    ┆ 2.636 │\n",
      "│ 2023-02-01 00:00:00 ┆ 1.42    ┆ 2.678 │\n",
      "│ 2023-03-01 00:00:00 ┆ 1.376   ┆ 2.696 │\n",
      "└─────────────────────┴─────────┴───────┘\n"
     ]
    }
   ],
   "source": [
    "basket_a = prices\n",
    "selection_b = [\"Chicken\", \"Cocoa\"]\n",
    "basket_b = y_pred.filter(pl.col(entity_col).is_in(selection_b)).pipe(\n",
    "    univariate_panel_to_wide, shrink_dtype=True\n",
    ")\n",
    "\n",
    "print(\"📊 Basket A -- 'Aluminum' and 'Banana, Europe' (wide):\\n\", basket_a)\n",
    "print(\"📊 Basket B -- 'Chicken' and 'Cocoa' (wide):\\n\", basket_b)"
   ]
  },
  {
   "cell_type": "markdown",
   "id": "b4df6c36-4ac7-4a43-b047-ccd77a92ea25",
   "metadata": {},
   "source": [
    "Now compare!"
   ]
  },
  {
   "cell_type": "code",
   "execution_count": 18,
   "id": "a752bb3b-605f-4581-837c-cb52ef17f198",
   "metadata": {},
   "outputs": [
    {
     "name": "stdout",
     "output_type": "stream",
     "text": [
      "📊 Comparison:\n",
      " Basket A and Basket B represent two different sets of time series data. We will compare and contrast these data sets in terms of trend, seasonality, and anomalies.\n",
      "\n",
      "**Trend Analysis:**\n",
      "\n",
      "For Basket A, the Aluminum prices show a slight decreasing trend over time, with a decrease of 11.7% from October 2020 to March 2023. On the other hand, Banana prices in Europe show a fluctuating trend with no clear direction, but overall, there is a slight increase of 30.3% during the same period.\n",
      "\n",
      "For Basket B, the Chicken prices exhibit a slight increasing trend, with an increase of 4.6% from October 2020 to March 2023. The Cocoa prices, on the other hand, show a relatively stable trend with some fluctuations, but no clear direction.\n",
      "\n",
      "**Seasonality Analysis:**\n",
      "\n",
      "Basket A does not exhibit any clear seasonality patterns in either Aluminum or Banana prices. The prices seem to fluctuate randomly without any consistent seasonal patterns.\n",
      "\n",
      "Basket B also does not show any significant seasonality patterns in Chicken or Cocoa prices. The prices vary without following a specific seasonal trend.\n",
      "\n",
      "**Anomaly Analysis:**\n",
      "\n",
      "Basket A does not have any obvious anomalies in the Aluminum prices. However, in the Banana prices, there is a significant anomaly in November 2021, where the price jumps by 6.3% compared to the previous month. This anomaly could be due to factors such as supply disruptions or changes in demand.\n",
      "\n",
      "Basket B does not show any clear anomalies in either Chicken or Cocoa prices. The prices fluctuate within a relatively stable range without any sudden or unexpected changes.\n",
      "\n",
      "In summary, Basket A and Basket B exhibit different trends over time. Basket A shows a decreasing trend in Aluminum prices and a fluctuating trend in Banana prices. Basket B shows an increasing trend in Chicken prices and a relatively stable trend in Cocoa prices. Both baskets do not display any clear seasonality patterns. Basket A has an anomaly in November 2021 in Banana prices, while Basket B does not show any significant anomalies.\n"
     ]
    }
   ],
   "source": [
    "comparison = basket_a.llm.compare(\n",
    "    as_label=\"Basket A\", others={\"Basket B\": basket_b}\n",
    ")  # This may take a few seconds\n",
    "print(\"📊 Comparison:\\n\", comparison)"
   ]
  }
 ],
 "metadata": {
  "kernelspec": {
   "display_name": "Python 3 (ipykernel)",
   "language": "python",
   "name": "python3"
  },
  "language_info": {
   "codemirror_mode": {
    "name": "ipython",
    "version": 3
   },
   "file_extension": ".py",
   "mimetype": "text/x-python",
   "name": "python",
   "nbconvert_exporter": "python",
   "pygments_lexer": "ipython3",
   "version": "3.11.4"
  }
 },
 "nbformat": 4,
 "nbformat_minor": 5
}
